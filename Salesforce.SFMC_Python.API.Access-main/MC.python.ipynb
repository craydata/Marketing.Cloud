{
 "cells": [
  {
   "cell_type": "code",
   "execution_count": 1,
   "metadata": {},
   "outputs": [
    {
     "name": "stdout",
     "output_type": "stream",
     "text": [
      "Defaulting to user installation because normal site-packages is not writeable\n",
      "Collecting Salesforce-FuelSDK\n",
      "  Downloading Salesforce_FuelSDK-1.3.0-py3-none-any.whl (19 kB)\n",
      "Requirement already satisfied: requests>=2.18.4 in /Users/c.ray.data/Library/Python/3.9/lib/python/site-packages (from Salesforce-FuelSDK) (2.28.1)\n",
      "Collecting suds-jurko==0.6\n",
      "  Downloading suds-jurko-0.6.zip (255 kB)\n",
      "\u001b[K     |████████████████████████████████| 255 kB 579 kB/s eta 0:00:01\n",
      "\u001b[?25hCollecting pyjwt>=1.5.3\n",
      "  Downloading PyJWT-2.6.0-py3-none-any.whl (20 kB)\n",
      "Requirement already satisfied: certifi>=2017.4.17 in /Library/Frameworks/Python.framework/Versions/3.9/lib/python3.9/site-packages (from requests>=2.18.4->Salesforce-FuelSDK) (2021.5.30)\n",
      "Requirement already satisfied: idna<4,>=2.5 in /Users/c.ray.data/Library/Python/3.9/lib/python/site-packages (from requests>=2.18.4->Salesforce-FuelSDK) (3.3)\n",
      "Requirement already satisfied: urllib3<1.27,>=1.21.1 in /Users/c.ray.data/Library/Python/3.9/lib/python/site-packages (from requests>=2.18.4->Salesforce-FuelSDK) (1.26.11)\n",
      "Requirement already satisfied: charset-normalizer<3,>=2 in /Users/c.ray.data/Library/Python/3.9/lib/python/site-packages (from requests>=2.18.4->Salesforce-FuelSDK) (2.1.0)\n",
      "Building wheels for collected packages: suds-jurko\n",
      "  Building wheel for suds-jurko (setup.py) ... \u001b[?25ldone\n",
      "\u001b[?25h  Created wheel for suds-jurko: filename=suds_jurko-0.6-py3-none-any.whl size=454511 sha256=20d90d7c70b86d0a65c052e2af854244331fb8fa1cf74216f883cd5046174994\n",
      "  Stored in directory: /Users/c.ray.data/Library/Caches/pip/wheels/29/c0/23/64063b0a735185a4c7a4e1788d2513f01a620e268f4207defd\n",
      "Successfully built suds-jurko\n",
      "Installing collected packages: suds-jurko, pyjwt, Salesforce-FuelSDK\n",
      "Successfully installed Salesforce-FuelSDK-1.3.0 pyjwt-2.6.0 suds-jurko-0.6\n",
      "\u001b[33mWARNING: You are using pip version 21.1.3; however, version 22.3.1 is available.\n",
      "You should consider upgrading via the '/usr/local/bin/python3 -m pip install --upgrade pip' command.\u001b[0m\n",
      "Note: you may need to restart the kernel to use updated packages.\n"
     ]
    }
   ],
   "source": [
    "pip install Salesforce-FuelSDK\n"
   ]
  },
  {
   "cell_type": "code",
   "execution_count": null,
   "metadata": {},
   "outputs": [],
   "source": [
    "# Add a require statement to reference the Fuel SDK's functionality: \n",
    "import FuelSDK \n",
    "import ET_Client"
   ]
  },
  {
   "cell_type": "code",
   "execution_count": null,
   "metadata": {},
   "outputs": [],
   "source": [
    "#define local variables \n",
    "clientid= '<Your Client Id>'\n",
    "clientsecret='<Your Client Secret>' \n",
    "subdomain = '<Your Domain Name>'\n",
    "auth_base_url = f'https://{subdomain}.auth.marketingcloudapis.com/' rest_url = f'https://{subdomain}.rest.marketingcloudapis.com/'\n",
    "soap_url=f'https://{subdomain}.soap.marketingcloudapis.com/'\n",
    "#Passing config as a parameter to ET_Client constructor:\n",
    "myClient = FuelSDK.ET_Client(True, False,\n",
    "{'clientid': clientid, \n",
    "'clientsecret':clientsecret,\n",
    "'useOAuth2Authentication': 'True',\n",
    "'authenticationurl': auth_base_url,\n",
    "'applicationType': 'server',\n",
    "'baseapiurl': rest_url,\n",
    "'soapendpoint': soap_url})\n",
    "# Next, create an instance of the ET_Client class:\n",
    "myClient = FuelSDK.ET_Client()\n",
    "\n",
    "# Create an instance of the object type we want to work with:\n",
    "list = FuelSDK.ET_List()\n",
    "\n",
    "# Associate the ET_Client- object using the auth_stub property:\n",
    "list.auth_stub = myClient\n",
    "\n",
    "# Utilize one of the ET_List methods:\n",
    "response = list.get()\n",
    "\n",
    "# Print out the results for viewing\n",
    "print 'Post Status: ' + str(response.status)\n",
    "print 'Code: ' + str(response.code)\n",
    "print 'Message: ' + str(response.message)\n",
    "print 'Result Count: ' + str(len(response.results))\n",
    "print 'Results: ' + str(response.results)"
   ]
  },
  {
   "cell_type": "code",
   "execution_count": null,
   "metadata": {},
   "outputs": [],
   "source": [
    "#import pandas library package\n",
    "import pandas as pd\n"
   ]
  },
  {
   "cell_type": "code",
   "execution_count": null,
   "metadata": {},
   "outputs": [],
   "source": [
    "#define dataframe to read response into dataframe\n",
    "df=pd.DataFrame(response.results)\n"
   ]
  },
  {
   "cell_type": "code",
   "execution_count": null,
   "metadata": {},
   "outputs": [],
   "source": [
    "#load data into csv data file\n",
    "df.to_csv('salesforce_marketing_cloud_sample.csv', index=False)"
   ]
  }
 ],
 "metadata": {
  "kernelspec": {
   "display_name": "Python 3",
   "language": "python",
   "name": "python3"
  },
  "language_info": {
   "codemirror_mode": {
    "name": "ipython",
    "version": 3
   },
   "file_extension": ".py",
   "mimetype": "text/x-python",
   "name": "python",
   "nbconvert_exporter": "python",
   "pygments_lexer": "ipython3",
   "version": "3.9.6 (v3.9.6:db3ff76da1, Jun 28 2021, 11:49:53) \n[Clang 6.0 (clang-600.0.57)]"
  },
  "orig_nbformat": 4,
  "vscode": {
   "interpreter": {
    "hash": "aee8b7b246df8f9039afb4144a1f6fd8d2ca17a180786b69acc140d282b71a49"
   }
  }
 },
 "nbformat": 4,
 "nbformat_minor": 2
}
