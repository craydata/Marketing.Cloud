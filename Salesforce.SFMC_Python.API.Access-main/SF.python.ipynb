{
 "cells": [
  {
   "cell_type": "code",
   "execution_count": 2,
   "metadata": {},
   "outputs": [],
   "source": [
    "# https://www.automationjames.com/2021/11/05/using-python-for-automation-with-simple-salesforce/\n",
    "# https://developer.salesforce.com/blogs/2021/09/how-to-automate-data-extraction-from-salesforce-using-python \n",
    "\n",
    "from simple_salesforce import Salesforce\n",
    "import requests\n",
    "import pandas as pd\n",
    "from io import StringIO"
   ]
  },
  {
   "cell_type": "code",
   "execution_count": null,
   "metadata": {},
   "outputs": [],
   "source": [
    "sf = Salesforce(username='',password='', security_token='')\n"
   ]
  },
  {
   "cell_type": "code",
   "execution_count": null,
   "metadata": {},
   "outputs": [],
   "source": [
    "# Option 1: download a Salesforce report\n",
    "#Your Salesforce Instance URL\n",
    "sf_instance = 'https://oneappexchange.lightning.force.com/' \n",
    "reportId = '' # add report id\n",
    "export = '?isdtp=p1&export=1&enc=UTF-8&xf=csv'\n",
    "sfUrl = sf_instance + reportId + export\n",
    "response = requests.get(sfUrl, headers=sf.headers, cookies={'sid': sf.session_id})\n",
    "download_report = response.content.decode('utf-8')\n",
    "df1 = pd.read_csv(StringIO(download_report))"
   ]
  },
  {
   "cell_type": "code",
   "execution_count": null,
   "metadata": {},
   "outputs": [],
   "source": [
    "# Option 2: query the data using SOQL\n",
    "# Finding Metadata\n",
    "\n",
    "\n",
    "descri=sf.UserInstall__c.describe()\n",
    "[field['name'] for field in descri['fields']]\n",
    "\n"
   ]
  },
  {
   "cell_type": "code",
   "execution_count": null,
   "metadata": {},
   "outputs": [],
   "source": [
    "# Fetching the data with SOQL\n",
    "\n",
    "\n",
    "results=sf.query_all(\"\"\"\n",
    "    Select \n",
    "    CreatedDate,\n",
    "    Listing__r.RecordTypeSnapshot__c,\n",
    "    Name,\n",
    "    Listing__r.ProviderName__c\n",
    "    from UserInstall__c\n",
    "    where CreatedDate=LAST_N_DAYS:7 \n",
    "    \"\"\")"
   ]
  },
  {
   "cell_type": "code",
   "execution_count": null,
   "metadata": {},
   "outputs": [],
   "source": [
    "#Constructing a DataFrame from a dictionary\n",
    "\n",
    "records = [dict(CreatedDate=rec['CreatedDate'], \n",
    "                Record_Type=rec['Listing__r']['RecordTypeSnapshot__c'],\n",
    "                Name=rec['Name'],\n",
    "                ProviderName=rec['Listing__r']['ProviderName__c']) \n",
    "                for rec in results['records']]\n",
    "df=pd.DataFrame(records)"
   ]
  }
 ],
 "metadata": {
  "kernelspec": {
   "display_name": "Python 3",
   "language": "python",
   "name": "python3"
  },
  "language_info": {
   "codemirror_mode": {
    "name": "ipython",
    "version": 3
   },
   "file_extension": ".py",
   "mimetype": "text/x-python",
   "name": "python",
   "nbconvert_exporter": "python",
   "pygments_lexer": "ipython3",
   "version": "3.9.6 (v3.9.6:db3ff76da1, Jun 28 2021, 11:49:53) \n[Clang 6.0 (clang-600.0.57)]"
  },
  "orig_nbformat": 4,
  "vscode": {
   "interpreter": {
    "hash": "aee8b7b246df8f9039afb4144a1f6fd8d2ca17a180786b69acc140d282b71a49"
   }
  }
 },
 "nbformat": 4,
 "nbformat_minor": 2
}
